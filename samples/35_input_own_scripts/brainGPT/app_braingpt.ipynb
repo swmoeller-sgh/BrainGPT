{
 "cells": [
  {
   "cell_type": "markdown",
   "metadata": {},
   "source": [
    "# Set project environment\n",
    "## Importing the packages"
   ]
  },
  {
   "cell_type": "code",
   "execution_count": 13,
   "metadata": {},
   "outputs": [],
   "source": [
    "from gpt_tools.generate_answer import process_question\n",
    "\n",
    "from flask import Flask, render_template, request, jsonify\n",
    "\n",
    "import os\n",
    "import openai\n",
    "import uuid\n",
    "\n",
    "import pandas as pd\n",
    "\n",
    "from dotenv import load_dotenv\n",
    "\n",
    "from langchain.vectorstores import Chroma\n",
    "from langchain.embeddings import OpenAIEmbeddings\n",
    "\n",
    "openai.api_key = os.getenv(\"OPENAI_API_KEY\")"
   ]
  },
  {
   "cell_type": "code",
   "execution_count": 14,
   "metadata": {},
   "outputs": [],
   "source": [
    "# load environmental variables\n",
    "load_dotenv()\n",
    "\n",
    "# directory definition\n",
    "output_directory = os.environ.get(\"OUTPUT_DIRECTORY\")\n",
    "doc_source = os.environ.get(\"DOC_SOURCE_DIRECTORY\")\n",
    "persist_directory = os.environ.get('SIMPLEGPT_PERSIST_DIRECTORY')\n",
    "embeddings_model_name = os.environ.get('EMBEDDINGS_MODEL_NAME')\n",
    "\n",
    "used_model = \"OPENAI\"   \n",
    "# used_model = \"\""
   ]
  },
  {
   "cell_type": "markdown",
   "metadata": {},
   "source": [
    "# Vectorstore and LLM-related functions"
   ]
  },
  {
   "cell_type": "code",
   "execution_count": null,
   "metadata": {},
   "outputs": [],
   "source": []
  },
  {
   "cell_type": "markdown",
   "metadata": {},
   "source": [
    "# App and flask-related functions"
   ]
  },
  {
   "cell_type": "markdown",
   "metadata": {},
   "source": [
    "# Configure the flask app"
   ]
  },
  {
   "cell_type": "code",
   "execution_count": 15,
   "metadata": {},
   "outputs": [],
   "source": [
    "app = Flask(\"brainGPT\")\n",
    "\n",
    "\n",
    "embeddings = OpenAIEmbeddings()\n",
    "\n",
    "\n",
    "# loading the vectorstore\n",
    "vectordb = Chroma(persist_directory=persist_directory,\n",
    "                   embedding_function=embeddings)\n",
    "\n",
    "@app.route(\"/\")\n",
    "def renderIndexPage():\n",
    "    return render_template(\"index.html\")\n",
    "\n",
    "\n",
    "@app.route('/api/question', methods=['POST'])\n",
    "def api_question():\n",
    "    data = request.get_json()\n",
    "    question = data.get('question')\n",
    "    if question:\n",
    "        answer = process_question(in_question=question,\n",
    "                                  in_vectordb=vectordb)\n",
    "        return jsonify(answer)\n",
    "    else:\n",
    "        return jsonify({\"error\": \"Invalid question\"}), 400\n",
    "    \n",
    "\n",
    "# Route to handle the form submission\n",
    "@app.route('/submit', methods=['POST'])\n",
    "def submit():\n",
    "    question = request.form['question']  # Get the question from the submitted form\n",
    "    answer = process_question(in_question=question,\n",
    "                              in_vectordb=vectordb)  # Process the question to get the answer\n",
    "#    answer = \"Test answer\"  # Process the question to get the answer\n",
    "    return render_template('index.html', question=question, answer=answer)\n",
    "\n"
   ]
  },
  {
   "cell_type": "markdown",
   "metadata": {},
   "source": [
    "# Main script"
   ]
  },
  {
   "cell_type": "code",
   "execution_count": 16,
   "metadata": {},
   "outputs": [
    {
     "name": "stdout",
     "output_type": "stream",
     "text": [
      " * Serving Flask app 'brainGPT'\n",
      " * Debug mode: off\n"
     ]
    },
    {
     "name": "stderr",
     "output_type": "stream",
     "text": [
      "WARNING: This is a development server. Do not use it in a production deployment. Use a production WSGI server instead.\n",
      " * Running on http://127.0.0.1:5000\n",
      "Press CTRL+C to quit\n",
      "127.0.0.1 - - [06/Aug/2023 23:07:36] \"GET / HTTP/1.1\" 200 -\n",
      "127.0.0.1 - - [06/Aug/2023 23:07:36] \"GET /socket.io/?EIO=4&transport=polling&t=OdChKqQ HTTP/1.1\" 404 -\n",
      "127.0.0.1 - - [06/Aug/2023 23:07:36] \"GET /favicon.ico HTTP/1.1\" 404 -\n",
      "127.0.0.1 - - [06/Aug/2023 23:07:37] \"GET /socket.io/?EIO=4&transport=polling&t=OdChL5h HTTP/1.1\" 404 -\n",
      "127.0.0.1 - - [06/Aug/2023 23:07:40] \"GET /socket.io/?EIO=4&transport=polling&t=OdChLj7 HTTP/1.1\" 404 -\n",
      "127.0.0.1 - - [06/Aug/2023 23:07:45] \"GET /socket.io/?EIO=4&transport=polling&t=OdChMxS HTTP/1.1\" 404 -\n",
      "[2023-08-06 23:07:48,945] ERROR in app: Exception on /api/question [POST]\n",
      "Traceback (most recent call last):\n",
      "  File \"/opt/anaconda3/envs/brainGPT/lib/python3.11/site-packages/flask/app.py\", line 2190, in wsgi_app\n",
      "    response = self.full_dispatch_request()\n",
      "               ^^^^^^^^^^^^^^^^^^^^^^^^^^^^\n",
      "  File \"/opt/anaconda3/envs/brainGPT/lib/python3.11/site-packages/flask/app.py\", line 1486, in full_dispatch_request\n",
      "    rv = self.handle_user_exception(e)\n",
      "         ^^^^^^^^^^^^^^^^^^^^^^^^^^^^^\n",
      "  File \"/opt/anaconda3/envs/brainGPT/lib/python3.11/site-packages/flask/app.py\", line 1484, in full_dispatch_request\n",
      "    rv = self.dispatch_request()\n",
      "         ^^^^^^^^^^^^^^^^^^^^^^^\n",
      "  File \"/opt/anaconda3/envs/brainGPT/lib/python3.11/site-packages/flask/app.py\", line 1469, in dispatch_request\n",
      "    return self.ensure_sync(self.view_functions[rule.endpoint])(**view_args)\n",
      "           ^^^^^^^^^^^^^^^^^^^^^^^^^^^^^^^^^^^^^^^^^^^^^^^^^^^^^^^^^^^^^^^^^\n",
      "  File \"/var/folders/v_/30b91q4507gfswmy19xh74300000gn/T/ipykernel_46060/170096294.py\", line 23, in api_question\n",
      "    return jsonify(answer)\n",
      "           ^^^^^^^^^^^^^^^\n",
      "  File \"/opt/anaconda3/envs/brainGPT/lib/python3.11/site-packages/flask/json/__init__.py\", line 170, in jsonify\n",
      "    return current_app.json.response(*args, **kwargs)\n",
      "           ^^^^^^^^^^^^^^^^^^^^^^^^^^^^^^^^^^^^^^^^^^\n",
      "  File \"/opt/anaconda3/envs/brainGPT/lib/python3.11/site-packages/flask/json/provider.py\", line 215, in response\n",
      "    f\"{self.dumps(obj, **dump_args)}\\n\", mimetype=self.mimetype\n",
      "       ^^^^^^^^^^^^^^^^^^^^^^^^^^^^\n",
      "  File \"/opt/anaconda3/envs/brainGPT/lib/python3.11/site-packages/flask/json/provider.py\", line 180, in dumps\n",
      "    return json.dumps(obj, **kwargs)\n",
      "           ^^^^^^^^^^^^^^^^^^^^^^^^^\n",
      "  File \"/opt/anaconda3/envs/brainGPT/lib/python3.11/json/__init__.py\", line 238, in dumps\n",
      "    **kw).encode(obj)\n",
      "          ^^^^^^^^^^^\n",
      "  File \"/opt/anaconda3/envs/brainGPT/lib/python3.11/json/encoder.py\", line 200, in encode\n",
      "    chunks = self.iterencode(o, _one_shot=True)\n",
      "             ^^^^^^^^^^^^^^^^^^^^^^^^^^^^^^^^^^\n",
      "  File \"/opt/anaconda3/envs/brainGPT/lib/python3.11/json/encoder.py\", line 258, in iterencode\n",
      "    return _iterencode(o, 0)\n",
      "           ^^^^^^^^^^^^^^^^^\n",
      "  File \"/opt/anaconda3/envs/brainGPT/lib/python3.11/site-packages/flask/json/provider.py\", line 120, in _default\n",
      "    raise TypeError(f\"Object of type {type(o).__name__} is not JSON serializable\")\n",
      "TypeError: Object of type Document is not JSON serializable\n",
      "127.0.0.1 - - [06/Aug/2023 23:07:48] \"POST /api/question HTTP/1.1\" 500 -\n",
      "127.0.0.1 - - [06/Aug/2023 23:07:50] \"GET /socket.io/?EIO=4&transport=polling&t=OdChO9m HTTP/1.1\" 404 -\n",
      "127.0.0.1 - - [06/Aug/2023 23:07:55] \"GET /socket.io/?EIO=4&transport=polling&t=OdChPOA HTTP/1.1\" 404 -\n",
      "127.0.0.1 - - [06/Aug/2023 23:08:00] \"GET /socket.io/?EIO=4&transport=polling&t=OdChQcT HTTP/1.1\" 404 -\n",
      "127.0.0.1 - - [06/Aug/2023 23:08:05] \"GET /socket.io/?EIO=4&transport=polling&t=OdChRql HTTP/1.1\" 404 -\n",
      "127.0.0.1 - - [06/Aug/2023 23:08:10] \"GET /socket.io/?EIO=4&transport=polling&t=OdChT33 HTTP/1.1\" 404 -\n",
      "127.0.0.1 - - [06/Aug/2023 23:08:15] \"GET /socket.io/?EIO=4&transport=polling&t=OdChUHJ HTTP/1.1\" 404 -\n"
     ]
    }
   ],
   "source": [
    "if __name__ == \"__main__\":\n",
    "    app.run(host=\"127.0.0.1\", port=5000)"
   ]
  }
 ],
 "metadata": {
  "kernelspec": {
   "display_name": "brainGPT",
   "language": "python",
   "name": "python3"
  },
  "language_info": {
   "codemirror_mode": {
    "name": "ipython",
    "version": 3
   },
   "file_extension": ".py",
   "mimetype": "text/x-python",
   "name": "python",
   "nbconvert_exporter": "python",
   "pygments_lexer": "ipython3",
   "version": "3.11.4"
  },
  "orig_nbformat": 4
 },
 "nbformat": 4,
 "nbformat_minor": 2
}
