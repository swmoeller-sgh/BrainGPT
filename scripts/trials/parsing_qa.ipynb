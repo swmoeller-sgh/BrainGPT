{
 "cells": [
  {
   "cell_type": "code",
   "execution_count": null,
   "metadata": {},
   "outputs": [],
   "source": []
  },
  {
   "cell_type": "code",
   "execution_count": null,
   "metadata": {},
   "outputs": [],
   "source": [
    "def qa_chained_history_parsed_output(in__question:str,                  #pylint: disable=W0102\n",
    "                             in__llm: object,       # Default value for Language Model object\n",
    "                             in__chat_history: list = [],\n",
    "                             in__vectordb: Chroma =vectordb):    # Default value for VectorDB object\n",
    "    \"\"\"\n",
    "    Receive a question, a context (chat history) with used vectorstore and generate \n",
    "    an answer including the document source\n",
    "\n",
    "    Parameters\n",
    "    ----------\n",
    "    in_question : str\n",
    "        question being raised\n",
    "    in_llm: object\n",
    "        used language model\n",
    "    in_chat_history: list of tuple\n",
    "        previous questions and their answers\n",
    "    in_vectordb : \n",
    "        vectorstore\n",
    "\n",
    "    Returns\n",
    "    -------\n",
    "    json\n",
    "        JSON object containing question and result including the answer and the source document\n",
    "    \"\"\"\n",
    "    json_schema = {\n",
    "        \"question\": \"Provided question without change\",\n",
    "        \"answer\": \"Answer for the question.\",\n",
    "        \"metadata\": \"source\": {\"citation\": \"An extract from the source in its original language. Limited to 20 words\", \n",
    "                       \"path\": \"The path to the original file\", \n",
    "                       \"type\": \"string\"},\n",
    "        },\n",
    "        \"required\": [\"name\", \"age\"],\n",
    "    }\n",
    "\n",
    "\n",
    "\n",
    "\n",
    "    return result   # Return the JSON response object"
   ]
  }
 ],
 "metadata": {
  "language_info": {
   "name": "python"
  }
 },
 "nbformat": 4,
 "nbformat_minor": 2
}
