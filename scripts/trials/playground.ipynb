{
 "cells": [
  {
   "cell_type": "code",
   "execution_count": 3,
   "metadata": {},
   "outputs": [
    {
     "name": "stdout",
     "output_type": "stream",
     "text": [
      "  File Path   UUID Type of File         Status\n",
      "0     path1  uuid1          pdf  Not Processed\n",
      "1     path2  uuid2          txt  Not Processed\n",
      "2     path3  uuid3          jpg      Processed\n",
      "3     path4  uuid4          doc         import\n",
      "4     path5  uuid5          pdf         import\n"
     ]
    },
    {
     "name": "stderr",
     "output_type": "stream",
     "text": [
      "/var/folders/v_/30b91q4507gfswmy19xh74300000gn/T/ipykernel_4629/1225758426.py:26: SettingWithCopyWarning: \n",
      "A value is trying to be set on a copy of a slice from a DataFrame.\n",
      "Try using .loc[row_indexer,col_indexer] = value instead\n",
      "\n",
      "See the caveats in the documentation: https://pandas.pydata.org/pandas-docs/stable/user_guide/indexing.html#returning-a-view-versus-a-copy\n",
      "  unique_rows_df2[\"Status\"] = \"import\"\n"
     ]
    }
   ],
   "source": [
    "import pandas as pd\n",
    "\n",
    "# Sample DataFrames (replace these with your actual DF1 and DF2)\n",
    "data1 = {\n",
    "    \"File Path\": [\"path1\", \"path2\", \"path3\"],\n",
    "    \"UUID\": [\"uuid1\", \"uuid2\", \"uuid3\"],\n",
    "    \"Type of File\": [\"pdf\", \"txt\", \"jpg\"],\n",
    "    \"Status\": [\"Not Processed\", \"Not Processed\", \"Processed\"]\n",
    "}\n",
    "\n",
    "data2 = {\n",
    "    \"File Path\": [\"path2\", \"path4\", \"path5\"],\n",
    "    \"UUID\": [\"uuid2\", \"uuid4\", \"uuid5\"],\n",
    "    \"Type of File\": [\"txt\", \"doc\", \"pdf\"],\n",
    "    \"Status\": [\"Processed\", \"Processed\", \"Not Processed\"]\n",
    "}\n",
    "\n",
    "# Create DataFrames\n",
    "df1 = pd.DataFrame(data1)\n",
    "df2 = pd.DataFrame(data2)\n",
    "\n",
    "# Filter DF2 for unique combinations of \"File Path\" and \"UUID\" not in DF1\n",
    "unique_rows_df2 = df2[~df2.set_index([\"File Path\", \"UUID\"]).index.isin(df1.set_index([\"File Path\", \"UUID\"]).index)]\n",
    "\n",
    "# Set the \"Status\" column for the filtered rows to \"import\"\n",
    "unique_rows_df2[\"Status\"] = \"import\"\n",
    "\n",
    "# Concatenate DF1 and the filtered DF2\n",
    "combined_df = pd.concat([df1, unique_rows_df2], ignore_index=True)\n",
    "\n",
    "# Display the combined DataFrame\n",
    "print(combined_df)\n"
   ]
  }
 ],
 "metadata": {
  "kernelspec": {
   "display_name": "brainGPT",
   "language": "python",
   "name": "python3"
  },
  "language_info": {
   "codemirror_mode": {
    "name": "ipython",
    "version": 3
   },
   "file_extension": ".py",
   "mimetype": "text/x-python",
   "name": "python",
   "nbconvert_exporter": "python",
   "pygments_lexer": "ipython3",
   "version": "3.11.4"
  },
  "orig_nbformat": 4
 },
 "nbformat": 4,
 "nbformat_minor": 2
}
